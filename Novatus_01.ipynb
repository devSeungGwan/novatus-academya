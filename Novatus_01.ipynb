{
  "nbformat": 4,
  "nbformat_minor": 0,
  "metadata": {
    "colab": {
      "name": "Novatus-01.ipynb",
      "private_outputs": true,
      "provenance": [],
      "collapsed_sections": [],
      "mount_file_id": "1-lXKdWdbui4IO6z5P-xzwXQ1vNX9HXV7",
      "authorship_tag": "ABX9TyMkK2JnWuRX8YmrNrg5dfT0",
      "include_colab_link": true
    },
    "kernelspec": {
      "name": "python3",
      "display_name": "Python 3"
    }
  },
  "cells": [
    {
      "cell_type": "markdown",
      "metadata": {
        "id": "view-in-github",
        "colab_type": "text"
      },
      "source": [
        "<a href=\"https://colab.research.google.com/github/devSeungGwan/novatus-academya/blob/master/Novatus_01.ipynb\" target=\"_parent\"><img src=\"https://colab.research.google.com/assets/colab-badge.svg\" alt=\"Open In Colab\"/></a>"
      ]
    },
    {
      "cell_type": "markdown",
      "metadata": {
        "id": "ZRTLJ6l8enr-"
      },
      "source": [
        "**AI 노바투스 과정**\r\n",
        "\r\n",
        "Week 1: 2021-02-05\r\n",
        "\r\n",
        "User: SEUNGGWAN SONG\r\n",
        "\r\n",
        "**실습 #0** Google Colab 처음 사용하기"
      ]
    },
    {
      "cell_type": "code",
      "metadata": {
        "id": "jYiZRHMug1ih"
      },
      "source": [
        "print(\"Hello World!\")"
      ],
      "execution_count": null,
      "outputs": []
    },
    {
      "cell_type": "markdown",
      "metadata": {
        "id": "5bBfDjpYg4hw"
      },
      "source": [
        "\r\n",
        "AI 노바투스 과정\r\n",
        "\r\n",
        "Week 1: 2021-02-05\r\n",
        "\r\n",
        "User: SEUNGGWAN SONG\r\n",
        "\r\n",
        "**실습 #1** Python 처음 사용하기"
      ]
    },
    {
      "cell_type": "code",
      "metadata": {
        "id": "EOP2NzJ6hypS"
      },
      "source": [
        "song = ['송승관', 'TIM', '연구원', 2020, 'sgsong@timmanage.com']"
      ],
      "execution_count": null,
      "outputs": []
    },
    {
      "cell_type": "code",
      "metadata": {
        "id": "N9IwzHomcfqJ"
      },
      "source": [
        "!pip install pycaret"
      ],
      "execution_count": null,
      "outputs": []
    },
    {
      "cell_type": "code",
      "metadata": {
        "id": "I5MgcKjUc-To"
      },
      "source": [
        "import pandas as pd\r\n",
        "from pandas_profiling import ProfileReport\r\n",
        "\r\n",
        "df = pd.read_csv(\"./sample_data/california_housing_train.csv\")\r\n",
        "df.head(5)"
      ],
      "execution_count": null,
      "outputs": []
    },
    {
      "cell_type": "code",
      "metadata": {
        "id": "aUqK-gCldsyW"
      },
      "source": [
        "report = ProfileReport(df, title=\"Sample\")\r\n",
        "report"
      ],
      "execution_count": null,
      "outputs": []
    },
    {
      "cell_type": "code",
      "metadata": {
        "id": "bWV59Z5Oi9-r"
      },
      "source": [
        "test_df = pd.read_csv(\"./sample_data/california_housing_test.csv\")\r\n",
        "test_report = ProfileReport(test_df, title=\"test_df\")\r\n",
        "test_report"
      ],
      "execution_count": null,
      "outputs": []
    },
    {
      "cell_type": "code",
      "metadata": {
        "id": "0-XAVheye8Yn"
      },
      "source": [
        "from pycaret.regression import *\r\n",
        "\r\n",
        "clf1 = setup(df, target='median_house_value', session_id=123, log_experiment=True, experiment_name='novatus-01')"
      ],
      "execution_count": null,
      "outputs": []
    },
    {
      "cell_type": "code",
      "metadata": {
        "id": "xGL5Vb0CfhAp"
      },
      "source": [
        "bestModel = compare_models()"
      ],
      "execution_count": null,
      "outputs": []
    },
    {
      "cell_type": "code",
      "metadata": {
        "id": "tg0z5Vh6kqow"
      },
      "source": [
        "evaluate_model(bestModel)"
      ],
      "execution_count": null,
      "outputs": []
    }
  ]
}