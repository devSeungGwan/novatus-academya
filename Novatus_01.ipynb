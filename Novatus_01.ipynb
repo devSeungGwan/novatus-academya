{
  "nbformat": 4,
  "nbformat_minor": 0,
  "metadata": {
    "colab": {
      "name": "Novatus-01.ipynb",
      "private_outputs": true,
      "provenance": [],
      "collapsed_sections": [
        "ZRTLJ6l8enr-",
        "5bBfDjpYg4hw",
        "A_I1RLHY6xah",
        "UsSQF-do_iNh",
        "pg-z3llw_loi",
        "kwLZ1k0M_qs2",
        "KXQdi3tGBd5P",
        "t0p7ThxvCzPF"
      ],
      "toc_visible": true,
      "mount_file_id": "1-lXKdWdbui4IO6z5P-xzwXQ1vNX9HXV7",
      "authorship_tag": "ABX9TyPbhlKhIfpCfHgj0a7cvumQ",
      "include_colab_link": true
    },
    "kernelspec": {
      "name": "python3",
      "display_name": "Python 3"
    }
  },
  "cells": [
    {
      "cell_type": "markdown",
      "metadata": {
        "id": "view-in-github",
        "colab_type": "text"
      },
      "source": [
        "<a href=\"https://colab.research.google.com/github/devSeungGwan/novatus-academya/blob/master/Novatus_01.ipynb\" target=\"_parent\"><img src=\"https://colab.research.google.com/assets/colab-badge.svg\" alt=\"Open In Colab\"/></a>"
      ]
    },
    {
      "cell_type": "markdown",
      "metadata": {
        "id": "pgbamGO7uFlw"
      },
      "source": [
        "# 인공지능 노바투스 아카데미아 1주차\r\n",
        "\r\n",
        "Week 1: 2021-02-05\r\n",
        "\r\n",
        "User: SEUNGGWAN SONG"
      ]
    },
    {
      "cell_type": "markdown",
      "metadata": {
        "id": "ZRTLJ6l8enr-"
      },
      "source": [
        "\r\n",
        "\r\n",
        "## **실습 #0** Google Colab 처음 사용하기"
      ]
    },
    {
      "cell_type": "markdown",
      "metadata": {
        "id": "5aoeNHVuu54l"
      },
      "source": [
        "Google Colab에 대한 내용 설명\r\n",
        "\r\n",
        " * Google Drive 내에서 사용이 가능하며, Python Runtime을 제공한다.\r\n",
        "\r\n",
        " * 딥러닝을 위한 컴퓨팅 자원을 제공한다. \r\n",
        "\r\n",
        "    *   CPU\r\n",
        "    *   GPU(NVIDIA TITAN K80, T4)\r\n",
        "    *   TPU\r\n",
        "\r\n",
        " * Colab Pro는 만원으로 한달동안 코랩을 무한으로 사용할 수 있다(매우 추천)\r\n"
      ]
    },
    {
      "cell_type": "markdown",
      "metadata": {
        "id": "5bBfDjpYg4hw"
      },
      "source": [
        "## **실습 #1** Python 처음 사용하기"
      ]
    },
    {
      "cell_type": "markdown",
      "metadata": {
        "id": "msctRGovs6S8"
      },
      "source": [
        "* list의 구조 원리 및 list slicing 에 대한 설명 진행\r\n",
        "\r\n",
        "    * 구조 설명\r\n",
        "    * List Slicing(:)\r\n",
        "    * List Merging(extend, append) - 상황에 맟춰서 써야 한다.\r\n",
        "    * List Flatten(flatten)\r\n",
        "\r\n",
        "* del 사용 및 왜 사용해야 하는 지\r\n",
        "\r\n",
        "    * 데이터셋에 불필요한 내용이 있을 경우, 이를 제거하고 유의미한 데이터만 남기기 위해 사용\r\n",
        "\r\n",
        "* range 에 대한 설명\r\n",
        "\r\n",
        "    * range는 사용자가 원하는 iter 구간을 가져올 수 있다.\r\n",
        "    * range(처음, 마지막, 반복) "
      ]
    },
    {
      "cell_type": "markdown",
      "metadata": {
        "id": "A_I1RLHY6xah"
      },
      "source": [
        "## **실습 #2** Numpy 사용하기"
      ]
    },
    {
      "cell_type": "markdown",
      "metadata": {
        "id": "UsSQF-do_iNh"
      },
      "source": [
        "### Numpy 선언"
      ]
    },
    {
      "cell_type": "code",
      "metadata": {
        "id": "sX9QmpiE6wYs"
      },
      "source": [
        "import numpy as np"
      ],
      "execution_count": null,
      "outputs": []
    },
    {
      "cell_type": "markdown",
      "metadata": {
        "id": "pg-z3llw_loi"
      },
      "source": [
        "### Numpy 연산"
      ]
    },
    {
      "cell_type": "code",
      "metadata": {
        "id": "6Z5g001k7B52"
      },
      "source": [
        "a = np.array([1, 2, 3])\r\n",
        "a"
      ],
      "execution_count": null,
      "outputs": []
    },
    {
      "cell_type": "code",
      "metadata": {
        "id": "GmoQV9SM7-7e"
      },
      "source": [
        "b = np.array([1, 2, 3])\r\n",
        "b"
      ],
      "execution_count": null,
      "outputs": []
    },
    {
      "cell_type": "code",
      "metadata": {
        "id": "1XPSHOtr8Chw"
      },
      "source": [
        "c = a + b\r\n",
        "c # dot product"
      ],
      "execution_count": null,
      "outputs": []
    },
    {
      "cell_type": "code",
      "metadata": {
        "id": "1ZuBDoV38Eju"
      },
      "source": [
        "d = a * b.transpose()\r\n",
        "d"
      ],
      "execution_count": null,
      "outputs": []
    },
    {
      "cell_type": "code",
      "metadata": {
        "id": "6UtbXNmg8cVs"
      },
      "source": [
        "e = a + 2\r\n",
        "e"
      ],
      "execution_count": null,
      "outputs": []
    },
    {
      "cell_type": "code",
      "metadata": {
        "id": "txgKhUPU8eYD"
      },
      "source": [
        "f = np.array([[1, 2, 3], [4, 5, 6]])\r\n",
        "f"
      ],
      "execution_count": null,
      "outputs": []
    },
    {
      "cell_type": "code",
      "metadata": {
        "id": "0pOKiB088waM"
      },
      "source": [
        "f[0, 1]"
      ],
      "execution_count": null,
      "outputs": []
    },
    {
      "cell_type": "markdown",
      "metadata": {
        "id": "kwLZ1k0M_qs2"
      },
      "source": [
        "### Numpy 행렬 모양 변경"
      ]
    },
    {
      "cell_type": "code",
      "metadata": {
        "id": "UP3ubnc59MG_"
      },
      "source": [
        "np.shape(f)"
      ],
      "execution_count": null,
      "outputs": []
    },
    {
      "cell_type": "code",
      "metadata": {
        "id": "21gTFobk9tqV"
      },
      "source": [
        "np.shape(a)"
      ],
      "execution_count": null,
      "outputs": []
    },
    {
      "cell_type": "code",
      "metadata": {
        "id": "yrOE6tYl9aVx"
      },
      "source": [
        "h = np.array([[7,2,9,10], [1,2,5,4]])\r\n",
        "h"
      ],
      "execution_count": null,
      "outputs": []
    },
    {
      "cell_type": "code",
      "metadata": {
        "id": "xNLxJVY79Ei2"
      },
      "source": [
        "np.reshape(h, (4, 2))"
      ],
      "execution_count": null,
      "outputs": []
    },
    {
      "cell_type": "code",
      "metadata": {
        "id": "e8oHrOZ2-bZv"
      },
      "source": [
        "np.reshape(h, (8,))"
      ],
      "execution_count": null,
      "outputs": []
    },
    {
      "cell_type": "code",
      "metadata": {
        "id": "nNGFD76U-zFC"
      },
      "source": [
        "g = h.flatten()\r\n",
        "g"
      ],
      "execution_count": null,
      "outputs": []
    },
    {
      "cell_type": "code",
      "metadata": {
        "id": "MyCouQbM-79k"
      },
      "source": [
        "l = np.ravel(h, order='K')\r\n",
        "l"
      ],
      "execution_count": null,
      "outputs": []
    },
    {
      "cell_type": "markdown",
      "metadata": {
        "id": "02LWMGr5_zjC"
      },
      "source": [
        "### Numpy 행렬 생성"
      ]
    },
    {
      "cell_type": "code",
      "metadata": {
        "id": "YpNXYPG6_HYH"
      },
      "source": [
        "zeros = np.zeros(5)\r\n",
        "zeros "
      ],
      "execution_count": null,
      "outputs": []
    },
    {
      "cell_type": "code",
      "metadata": {
        "id": "EUNZQj2Y_6sL"
      },
      "source": [
        "ones = np.ones(5)\r\n",
        "ones"
      ],
      "execution_count": null,
      "outputs": []
    },
    {
      "cell_type": "code",
      "metadata": {
        "id": "QnQf1XEoAHcv"
      },
      "source": [
        "zerosArray = np.zeros((5, 5))\r\n",
        "zerosArray"
      ],
      "execution_count": null,
      "outputs": []
    },
    {
      "cell_type": "code",
      "metadata": {
        "id": "SmkfWKBV_6t4"
      },
      "source": [
        "forArray = np.array([i for i in range(1, 16)])\r\n",
        "forArray = np.reshape(forArray, (3, 5))\r\n",
        "forArray"
      ],
      "execution_count": null,
      "outputs": []
    },
    {
      "cell_type": "code",
      "metadata": {
        "id": "IVhfnyzBFc6J"
      },
      "source": [
        "target5 = np.linspace(1, 50)\r\n",
        "target5"
      ],
      "execution_count": null,
      "outputs": []
    },
    {
      "cell_type": "markdown",
      "metadata": {
        "id": "KXQdi3tGBd5P"
      },
      "source": [
        "#### Quiz: (10, 10) 크기의 행렬에 가장자리만 1이고 안쪽에는 다 0인 Array룰 만들어보세요."
      ]
    },
    {
      "cell_type": "code",
      "metadata": {
        "id": "fa81CPBCBVwL"
      },
      "source": [
        "oness = np.ones((10, 10))\r\n",
        "oness"
      ],
      "execution_count": null,
      "outputs": []
    },
    {
      "cell_type": "code",
      "metadata": {
        "id": "6bhmTQL0CErZ"
      },
      "source": [
        "zeross = np.zeros((8, 8))\r\n",
        "zeross"
      ],
      "execution_count": null,
      "outputs": []
    },
    {
      "cell_type": "code",
      "metadata": {
        "id": "hSb7jiprCJP-"
      },
      "source": [
        "oness[1:9, 1:9] = zeross\r\n",
        "oness"
      ],
      "execution_count": null,
      "outputs": []
    },
    {
      "cell_type": "markdown",
      "metadata": {
        "id": "t0p7ThxvCzPF"
      },
      "source": [
        "#### Broadcast"
      ]
    },
    {
      "cell_type": "code",
      "metadata": {
        "id": "ZrFv58OHCZeo"
      },
      "source": [
        "target = np.ones(9).reshape((3, 3)) + np.array([0, 1, 2])\r\n",
        "target"
      ],
      "execution_count": null,
      "outputs": []
    },
    {
      "cell_type": "code",
      "metadata": {
        "id": "6Ym5yQqzDkNS"
      },
      "source": [
        "target2 = np.array([1, 2, 3]) + np.array([[1], [2], [3]])\r\n",
        "target2"
      ],
      "execution_count": null,
      "outputs": []
    },
    {
      "cell_type": "code",
      "metadata": {
        "id": "ydkrRhPzDgLi"
      },
      "source": [
        "target3 = np.append(np.array(range(6)).reshape((2, 3)), np.array(range(6, -0, -1)).reshape(2, 3), axis=0)\r\n",
        "target3"
      ],
      "execution_count": null,
      "outputs": []
    },
    {
      "cell_type": "markdown",
      "metadata": {
        "id": "pzz_Py42E13T"
      },
      "source": [
        "#### Array a와 b를 가로로 붇인 후, flatten했다가 (3, 4) 모양으로 reshape"
      ]
    },
    {
      "cell_type": "code",
      "metadata": {
        "id": "Hn_4Yuq4CWR6"
      },
      "source": [
        "target4 = np.append(target, target2, axis=1).flatten().reshape((3, 6))\r\n",
        "target4"
      ],
      "execution_count": null,
      "outputs": []
    },
    {
      "cell_type": "markdown",
      "metadata": {
        "id": "FSZlpUy4GhtC"
      },
      "source": [
        "### Numpy dot product"
      ]
    },
    {
      "cell_type": "code",
      "metadata": {
        "id": "WjqMNs-CGpO5"
      },
      "source": [
        "target * target2"
      ],
      "execution_count": null,
      "outputs": []
    },
    {
      "cell_type": "code",
      "metadata": {
        "id": "avWH0CbDGvDJ"
      },
      "source": [
        "target6 = np.matmul(target, target2)\r\n",
        "target6"
      ],
      "execution_count": null,
      "outputs": []
    },
    {
      "cell_type": "markdown",
      "metadata": {
        "id": "YjeZjQspJprk"
      },
      "source": [
        "## **실습 #3** 데이터 가져오기"
      ]
    },
    {
      "cell_type": "code",
      "metadata": {
        "id": "pRkKVWYcG1zj"
      },
      "source": [
        "from sklearn.datasets import load_iris\r\n",
        "import pandas as pd\r\n",
        "\r\n",
        "iris = load_iris()\r\n",
        "df_iris = pd.DataFrame(iris['data'])\r\n",
        "df_iris.tail(5)"
      ],
      "execution_count": null,
      "outputs": []
    },
    {
      "cell_type": "code",
      "metadata": {
        "id": "-IRnAJNhIrvS"
      },
      "source": [
        "house_train = pd.read_csv(\"./sample_data/california_housing_train.csv\")\r\n",
        "house_train.head(5)"
      ],
      "execution_count": null,
      "outputs": []
    },
    {
      "cell_type": "code",
      "metadata": {
        "id": "omqPDWpwNZqz"
      },
      "source": [
        "house_train.info()"
      ],
      "execution_count": null,
      "outputs": []
    },
    {
      "cell_type": "code",
      "metadata": {
        "id": "fogadLrNNiiA"
      },
      "source": [
        "house_train.iloc[50]"
      ],
      "execution_count": null,
      "outputs": []
    },
    {
      "cell_type": "code",
      "metadata": {
        "id": "XHQB39xnNtO5"
      },
      "source": [
        "house_train.shape"
      ],
      "execution_count": null,
      "outputs": []
    },
    {
      "cell_type": "code",
      "metadata": {
        "id": "Kwngb4enOyga"
      },
      "source": [
        "import matplotlib\r\n",
        "import matplotlib.pyplot as plt\r\n",
        "\r\n",
        "hist = plt.hist(house_train['longitude'], bins=50)"
      ],
      "execution_count": null,
      "outputs": []
    },
    {
      "cell_type": "code",
      "metadata": {
        "id": "nV3a0dGkPJKG"
      },
      "source": [
        "hist_latitude = plt.hist(house_train['latitude'], bins=100)"
      ],
      "execution_count": null,
      "outputs": []
    },
    {
      "cell_type": "code",
      "metadata": {
        "id": "I_KQo7IZQYRn"
      },
      "source": [
        "house_train.plot(kind=\"scatter\", x=\"median_income\" ,y=\"median_house_value\")"
      ],
      "execution_count": null,
      "outputs": []
    },
    {
      "cell_type": "code",
      "metadata": {
        "id": "8GfRr9CyRoJu"
      },
      "source": [
        "from pandas.plotting import scatter_matrix\r\n",
        "\r\n",
        "attributes = ['median_house_value', 'median_income', 'longitude', 'latitude', \"total_rooms\"]\r\n",
        "scatter_matrix(house_train[attributes], figsize=(12,8))"
      ],
      "execution_count": null,
      "outputs": []
    },
    {
      "cell_type": "code",
      "metadata": {
        "id": "u52GLk9pR_NS"
      },
      "source": [
        "corr_matrix = house_train.corr()\r\n",
        "corr_matrix['median_house_value'].sort_values(ascending=False)"
      ],
      "execution_count": null,
      "outputs": []
    },
    {
      "cell_type": "code",
      "metadata": {
        "id": "wDIAUW1gSZtA"
      },
      "source": [
        "import seaborn as sns"
      ],
      "execution_count": null,
      "outputs": []
    },
    {
      "cell_type": "code",
      "metadata": {
        "id": "ShCaJp4vS5Dt"
      },
      "source": [
        "sns.heatmap(corr_matrix)"
      ],
      "execution_count": null,
      "outputs": []
    }
  ]
}