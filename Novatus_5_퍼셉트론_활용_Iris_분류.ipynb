{
  "nbformat": 4,
  "nbformat_minor": 0,
  "metadata": {
    "colab": {
      "name": "Novatus-5 퍼셉트론 활용 Iris 분류.ipynb",
      "private_outputs": true,
      "provenance": [],
      "collapsed_sections": [
        "XmtScnJNjVmA",
        "E1Xuaq_FoOfW",
        "sWpSnzezoRV8",
        "-8b_E4DzogFg"
      ],
      "authorship_tag": "ABX9TyONXzOLJoPkvgNtLih2MUgr",
      "include_colab_link": true
    },
    "kernelspec": {
      "name": "python3",
      "display_name": "Python 3"
    }
  },
  "cells": [
    {
      "cell_type": "markdown",
      "metadata": {
        "id": "view-in-github",
        "colab_type": "text"
      },
      "source": [
        "<a href=\"https://colab.research.google.com/github/devSeungGwan/novatus-academya/blob/master/Novatus_5_%ED%8D%BC%EC%85%89%ED%8A%B8%EB%A1%A0_%ED%99%9C%EC%9A%A9_Iris_%EB%B6%84%EB%A5%98.ipynb\" target=\"_parent\"><img src=\"https://colab.research.google.com/assets/colab-badge.svg\" alt=\"Open In Colab\"/></a>"
      ]
    },
    {
      "cell_type": "markdown",
      "metadata": {
        "id": "XmtScnJNjVmA"
      },
      "source": [
        "# 데이터셋 준비"
      ]
    },
    {
      "cell_type": "code",
      "metadata": {
        "id": "p52-zKxAjVO2"
      },
      "source": [
        "from sklearn import datasets\r\n",
        "import pandas as pd\r\n",
        "import numpy as np\r\n",
        "import matplotlib\r\n",
        "import matplotlib.pyplot as plt\r\n",
        "%matplotlib inline\r\n",
        "\r\n",
        "\r\n",
        "iris = datasets.load_iris()"
      ],
      "execution_count": null,
      "outputs": []
    },
    {
      "cell_type": "code",
      "metadata": {
        "id": "hTFQnNDAjJ3B"
      },
      "source": [
        "list(iris.keys()) "
      ],
      "execution_count": null,
      "outputs": []
    },
    {
      "cell_type": "code",
      "metadata": {
        "id": "V-IcJCDxj6fu"
      },
      "source": [
        "iris.feature_names"
      ],
      "execution_count": null,
      "outputs": []
    },
    {
      "cell_type": "code",
      "metadata": {
        "id": "WdfOnFjnlmm1"
      },
      "source": [
        "iris.target_names"
      ],
      "execution_count": null,
      "outputs": []
    },
    {
      "cell_type": "code",
      "metadata": {
        "id": "kielOXM_kEEC"
      },
      "source": [
        "iris.data[:5]"
      ],
      "execution_count": null,
      "outputs": []
    },
    {
      "cell_type": "code",
      "metadata": {
        "id": "gOjetd56kOe-"
      },
      "source": [
        "iris.target[:5]"
      ],
      "execution_count": null,
      "outputs": []
    },
    {
      "cell_type": "markdown",
      "metadata": {
        "id": "d2R5NNGQk9OK"
      },
      "source": [
        "# Feature 2개(Petal Length, Petal width)를 이용한 퍼셉트론 학습"
      ]
    },
    {
      "cell_type": "markdown",
      "metadata": {
        "id": "wItQqvJ6rswv"
      },
      "source": [
        "## 필요한 라이브러리 import 및 데이터 전처리"
      ]
    },
    {
      "cell_type": "code",
      "metadata": {
        "id": "BW-GudAIlFB8"
      },
      "source": [
        "from sklearn.linear_model import Perceptron"
      ],
      "execution_count": null,
      "outputs": []
    },
    {
      "cell_type": "code",
      "metadata": {
        "id": "5u9n2iMilPhX"
      },
      "source": [
        "X = iris.data[:, (2, 3)]\r\n",
        "y = (iris.target==0).astype(np.int)"
      ],
      "execution_count": null,
      "outputs": []
    },
    {
      "cell_type": "markdown",
      "metadata": {
        "id": "E1Xuaq_FoOfW"
      },
      "source": [
        "## 데이터 시각화"
      ]
    },
    {
      "cell_type": "code",
      "metadata": {
        "id": "lfwpZsjTmpEl"
      },
      "source": [
        "plt.scatter(X[:, 0], X[:, 1])\r\n",
        "plt.xlabel(\"Petal Length(cm)\")\r\n",
        "plt.ylabel(\"Petal Width(cm)\")\r\n",
        "plt.plot()"
      ],
      "execution_count": null,
      "outputs": []
    },
    {
      "cell_type": "code",
      "metadata": {
        "id": "N_xkds4_nPGA"
      },
      "source": [
        "plt.scatter(X[:, 0][y==0], X[:, 1][y==0], c=\"blue\") # not cetosa\r\n",
        "plt.scatter(X[:, 0][y!=0], X[:, 1][y!=0], c=\"red\") # cetosa\r\n",
        "\r\n",
        "plt.xlabel(\"Petal Length(cm)\")\r\n",
        "plt.ylabel(\"Petal Width(cm)\")\r\n",
        "plt.plot()"
      ],
      "execution_count": null,
      "outputs": []
    },
    {
      "cell_type": "markdown",
      "metadata": {
        "id": "sWpSnzezoRV8"
      },
      "source": [
        "## 모델 지정 및 학습"
      ]
    },
    {
      "cell_type": "code",
      "metadata": {
        "id": "eWniDXo_oHn3"
      },
      "source": [
        "per_clf = Perceptron()\r\n",
        "per_clf.fit(X, y)"
      ],
      "execution_count": null,
      "outputs": []
    },
    {
      "cell_type": "markdown",
      "metadata": {
        "id": "-8b_E4DzogFg"
      },
      "source": [
        "## 학습 결과 확인"
      ]
    },
    {
      "cell_type": "markdown",
      "metadata": {
        "id": "TieizJLZo2I6"
      },
      "source": [
        "### 가중치"
      ]
    },
    {
      "cell_type": "code",
      "metadata": {
        "id": "CWqJyJ9Jod2f"
      },
      "source": [
        "per_clf.coef_"
      ],
      "execution_count": null,
      "outputs": []
    },
    {
      "cell_type": "markdown",
      "metadata": {
        "id": "zzuipNB6o34s"
      },
      "source": [
        "### 편향"
      ]
    },
    {
      "cell_type": "code",
      "metadata": {
        "id": "BeMVDWRbovvI"
      },
      "source": [
        "per_clf.intercept_"
      ],
      "execution_count": null,
      "outputs": []
    },
    {
      "cell_type": "markdown",
      "metadata": {
        "id": "R6hrHpUfo7qD"
      },
      "source": [
        "## 학습 결과를 그림으로 표현"
      ]
    },
    {
      "cell_type": "code",
      "metadata": {
        "id": "dcuRI5eUo-fb"
      },
      "source": [
        "xx, yy = np.meshgrid(np.arange(0, 8, 0.01), np.arange(0, 3, 0.01))\r\n",
        "Z = per_clf.predict(np.c_[xx.ravel(), yy.ravel()])\r\n",
        "Z = Z.reshape(xx.shape)\r\n",
        "\r\n",
        "plt.figure(1)\r\n",
        "plt.pcolormesh(xx, yy, Z, cmap=\"RdBu\", vmin=-.2, vmax=1.2)\r\n",
        "\r\n",
        "plt.scatter(X[:, 0], X[:, 1], c=y, s=50, cmap=\"RdBu\", vmin=-.2, vmax=1.2, edgecolor=\"white\", linewidth=1)\r\n",
        "\r\n",
        "plt.title(\"iris decision boundary: $2-0.7x_1-1.2x_2=0$\") # 가중치와 편향을 표시해 줌\r\n",
        "plt.xlabel(\"Petal Length(cm)\")\r\n",
        "plt.ylabel(\"Petal Width(cm)\")"
      ],
      "execution_count": null,
      "outputs": []
    },
    {
      "cell_type": "markdown",
      "metadata": {
        "id": "u84PSwJRrhul"
      },
      "source": [
        "## 예측이 정확하게 되었는 지 Training Error 출력"
      ]
    },
    {
      "cell_type": "code",
      "metadata": {
        "id": "gIIH35SOrm72"
      },
      "source": [
        "np.sum(per_clf.predict(X) != y )"
      ],
      "execution_count": null,
      "outputs": []
    },
    {
      "cell_type": "code",
      "metadata": {
        "id": "RTIwSq0wr_d2"
      },
      "source": [
        "y_pred = per_clf.predict([[2, 0.5]])\r\n",
        "y_pred"
      ],
      "execution_count": null,
      "outputs": []
    }
  ]
}