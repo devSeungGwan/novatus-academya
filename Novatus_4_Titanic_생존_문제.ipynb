{
  "nbformat": 4,
  "nbformat_minor": 0,
  "metadata": {
    "colab": {
      "name": "Novatus-4 Titanic 생존 문제.ipynb",
      "private_outputs": true,
      "provenance": [],
      "collapsed_sections": [
        "VLt1WPw7I0No",
        "gKTDfoQSJErJ",
        "lnYzQ4TlJiH1"
      ],
      "authorship_tag": "ABX9TyN7WYsWrTFjozTZyIM+nsWc",
      "include_colab_link": true
    },
    "kernelspec": {
      "name": "python3",
      "display_name": "Python 3"
    }
  },
  "cells": [
    {
      "cell_type": "markdown",
      "metadata": {
        "id": "view-in-github",
        "colab_type": "text"
      },
      "source": [
        "<a href=\"https://colab.research.google.com/github/devSeungGwan/novatus-academya/blob/master/Novatus_4_Titanic_%EC%83%9D%EC%A1%B4_%EB%AC%B8%EC%A0%9C.ipynb\" target=\"_parent\"><img src=\"https://colab.research.google.com/assets/colab-badge.svg\" alt=\"Open In Colab\"/></a>"
      ]
    },
    {
      "cell_type": "markdown",
      "metadata": {
        "id": "Hnp70ub9I4ar"
      },
      "source": [
        "# Titanic 생존 문제"
      ]
    },
    {
      "cell_type": "markdown",
      "metadata": {
        "id": "VLt1WPw7I0No"
      },
      "source": [
        "## 라이브러리 import"
      ]
    },
    {
      "cell_type": "code",
      "metadata": {
        "id": "h04ZNDe8Ihhx"
      },
      "source": [
        "import pandas as pd\r\n",
        "import numpy as np\r\n",
        "import matplotlib\r\n",
        "import matplotlib.pyplot as plt"
      ],
      "execution_count": null,
      "outputs": []
    },
    {
      "cell_type": "markdown",
      "metadata": {
        "id": "gKTDfoQSJErJ"
      },
      "source": [
        "## 데이터 import"
      ]
    },
    {
      "cell_type": "code",
      "metadata": {
        "id": "lNjezoW0JDPZ"
      },
      "source": [
        "train_data = pd.read_csv('./titanic_train.csv')\r\n",
        "test_data = pd.read_csv('./titanic_test.csv')"
      ],
      "execution_count": null,
      "outputs": []
    },
    {
      "cell_type": "markdown",
      "metadata": {
        "id": "lnYzQ4TlJiH1"
      },
      "source": [
        "## 데이터 분석"
      ]
    },
    {
      "cell_type": "code",
      "metadata": {
        "id": "qlZj1el8Jdxz"
      },
      "source": [
        "train_data.head(5)"
      ],
      "execution_count": null,
      "outputs": []
    },
    {
      "cell_type": "code",
      "metadata": {
        "id": "Dv5q400VJm_7"
      },
      "source": [
        "test_data.head(5)"
      ],
      "execution_count": null,
      "outputs": []
    },
    {
      "cell_type": "code",
      "metadata": {
        "id": "yIalUfoXJyqE"
      },
      "source": [
        "train_data.describe()"
      ],
      "execution_count": null,
      "outputs": []
    },
    {
      "cell_type": "code",
      "metadata": {
        "id": "9Egb1C2aKeRk"
      },
      "source": [
        "train_data.describe(percentiles=[0.95])"
      ],
      "execution_count": null,
      "outputs": []
    },
    {
      "cell_type": "code",
      "metadata": {
        "id": "GV79KtI2KmTa"
      },
      "source": [
        "train_data.describe(include=['O'])"
      ],
      "execution_count": null,
      "outputs": []
    },
    {
      "cell_type": "markdown",
      "metadata": {
        "id": "VKyCKFk0Lt5z"
      },
      "source": [
        "### 클래스 등급과 생존의 연관관계"
      ]
    },
    {
      "cell_type": "code",
      "metadata": {
        "id": "so3wGGUGLEfL"
      },
      "source": [
        "train_data[[\"Pclass\", 'Survived']].groupby(['Pclass'], as_index=False).mean().sort_values(by='Survived', ascending=False)"
      ],
      "execution_count": null,
      "outputs": []
    },
    {
      "cell_type": "markdown",
      "metadata": {
        "id": "5fysjuYYNMM8"
      },
      "source": [
        "> 클래스가 높을 수록 생존 확률이 높았다"
      ]
    },
    {
      "cell_type": "markdown",
      "metadata": {
        "id": "vApxrL-8L0z9"
      },
      "source": [
        "### 성별에 따른 생존과 연관관계"
      ]
    },
    {
      "cell_type": "code",
      "metadata": {
        "id": "kgpIB7J3LrwN"
      },
      "source": [
        "train_data[[\"Sex\", 'Survived']].groupby(['Sex'], as_index=False).mean().sort_values(by='Survived', ascending=False)"
      ],
      "execution_count": null,
      "outputs": []
    },
    {
      "cell_type": "markdown",
      "metadata": {
        "id": "6bi_yFCMMES8"
      },
      "source": [
        "### 가족 관계에 따른 생존과 연관관계"
      ]
    },
    {
      "cell_type": "code",
      "metadata": {
        "id": "Zrg-xIYzMHcD"
      },
      "source": [
        "train_data[[\"SibSp\", 'Survived']].groupby(['SibSp'], as_index=False).mean().sort_values(by='Survived', ascending=False)"
      ],
      "execution_count": null,
      "outputs": []
    },
    {
      "cell_type": "markdown",
      "metadata": {
        "id": "9z310Xj9Mgmt"
      },
      "source": [
        "### 장소에 따른 생존과 연관관계"
      ]
    },
    {
      "cell_type": "code",
      "metadata": {
        "id": "WMG1iUcXMPDQ"
      },
      "source": [
        "train_data[[\"Embarked\", 'Survived']].groupby(['Embarked'], as_index=False).mean().sort_values(by='Survived', ascending=False)"
      ],
      "execution_count": null,
      "outputs": []
    },
    {
      "cell_type": "markdown",
      "metadata": {
        "id": "xVi62NFeM2lS"
      },
      "source": [
        "> 연관관계가 그렇게 많진 않다"
      ]
    },
    {
      "cell_type": "markdown",
      "metadata": {
        "id": "LEcPuXISNT-n"
      },
      "source": [
        "## 데이터 전처리"
      ]
    },
    {
      "cell_type": "code",
      "metadata": {
        "id": "haovbc5JM9N4"
      },
      "source": [
        "prep_train_data = pd.read_csv('./titanic_train.csv')\r\n",
        "prep_test_data = pd.read_csv('./titanic_test.csv')"
      ],
      "execution_count": null,
      "outputs": []
    },
    {
      "cell_type": "code",
      "metadata": {
        "id": "RF0iFcA_Nal9"
      },
      "source": [
        "prep_train_data.columns"
      ],
      "execution_count": null,
      "outputs": []
    },
    {
      "cell_type": "code",
      "metadata": {
        "id": "ho26jZUINm0f"
      },
      "source": [
        "prep_train_data.head(5)"
      ],
      "execution_count": null,
      "outputs": []
    },
    {
      "cell_type": "code",
      "metadata": {
        "id": "v_PpQExzOUAx"
      },
      "source": [
        "prep_train_data.drop([\"Name\", \"Ticket\", \"Cabin\" ], axis=1)"
      ],
      "execution_count": null,
      "outputs": []
    },
    {
      "cell_type": "code",
      "metadata": {
        "id": "R4bqLbBQSOAR"
      },
      "source": [
        "def impute_age(cols):\r\n",
        "    Age = cols[0]\r\n",
        "    Pclass = cols[1]\r\n",
        "    \r\n",
        "    if pd.isnull(Age):\r\n",
        "        if Pclass == 1: return 37\r\n",
        "        elif Pclass == 2: return 29\r\n",
        "        else: return 2\r\n",
        "    else: return Age\r\n",
        "    \r\n",
        "def impute_fare(cols):\r\n",
        "    Fare = cols[0]\r\n",
        "    Pclass = cols[1]\r\n",
        "    \r\n",
        "    if pd.isnull(Fare):\r\n",
        "        if Pclass == 1: return 92\r\n",
        "        elif Pclass == 2: return 22\r\n",
        "        else: return 12\r\n",
        "    else: return Fare    \r\n",
        "    \r\n",
        "prep_train_data['Fare'] = prep_train_data[['Fare','Pclass']].apply(impute_fare,axis=1)\r\n",
        "prep_train_data['Age'] = prep_train_data[['Age','Pclass']].apply(impute_age,axis=1)"
      ],
      "execution_count": null,
      "outputs": []
    },
    {
      "cell_type": "code",
      "metadata": {
        "id": "SwBOS7eHSq9S"
      },
      "source": [
        "from sklearn.preprocessing import LabelEncoder\r\n",
        "le = LabelEncoder()\r\n",
        "objList = prep_train_data.select_dtypes(include = \"object\").columns\r\n",
        "print (objList)\r\n",
        "\r\n",
        "for feat in objList:\r\n",
        "    prep_train_data[feat] = le.fit_transform(prep_train_data[feat].astype(str))\r\n",
        "print (prep_train_data.info())"
      ],
      "execution_count": null,
      "outputs": []
    },
    {
      "cell_type": "code",
      "metadata": {
        "id": "V3wYEEFtS2Yd"
      },
      "source": [
        "import seaborn as sns\r\n",
        "\r\n",
        "sns.heatmap(prep_train_data.isnull(),yticklabels=False,cbar=False,cmap='viridis')"
      ],
      "execution_count": null,
      "outputs": []
    },
    {
      "cell_type": "code",
      "metadata": {
        "id": "qA79V_5QTAfw"
      },
      "source": [
        "X = prep_train_data.drop(['Survived', 'PassengerId'],axis=1) #features\r\n",
        "y = prep_train_data['Survived'] #target"
      ],
      "execution_count": null,
      "outputs": []
    },
    {
      "cell_type": "code",
      "metadata": {
        "id": "X-R7_42LTFKm"
      },
      "source": [
        "X.head(5)"
      ],
      "execution_count": null,
      "outputs": []
    },
    {
      "cell_type": "code",
      "metadata": {
        "id": "WG8KERJeTYif"
      },
      "source": [
        "y.head(5)"
      ],
      "execution_count": null,
      "outputs": []
    },
    {
      "cell_type": "code",
      "metadata": {
        "id": "e5_JdGUhTtlR"
      },
      "source": [
        "from sklearn.model_selection import train_test_split\r\n",
        "X_train, X_test, y_train, y_test = train_test_split(X, y, test_size = 0.2, random_state = 1)"
      ],
      "execution_count": null,
      "outputs": []
    },
    {
      "cell_type": "code",
      "metadata": {
        "id": "tKZ1CB-mTuQf"
      },
      "source": [
        "from sklearn.preprocessing import StandardScaler\r\n",
        "sc = StandardScaler()\r\n",
        "X_train = sc.fit_transform(X_train)\r\n",
        "X_test = sc.transform(X_test)"
      ],
      "execution_count": null,
      "outputs": []
    },
    {
      "cell_type": "markdown",
      "metadata": {
        "id": "raSnyQf8VOT4"
      },
      "source": [
        "## 데이터 학습"
      ]
    },
    {
      "cell_type": "code",
      "metadata": {
        "id": "G6nGYUplTw5r"
      },
      "source": [
        "from sklearn.linear_model import LogisticRegression\r\n",
        "from sklearn.metrics import roc_curve, roc_auc_score"
      ],
      "execution_count": null,
      "outputs": []
    },
    {
      "cell_type": "code",
      "metadata": {
        "id": "5wyndNDjVgVC"
      },
      "source": [
        "classifier = LogisticRegression()\r\n",
        "classifier.fit(X_train, y_train)"
      ],
      "execution_count": null,
      "outputs": []
    },
    {
      "cell_type": "code",
      "metadata": {
        "id": "EGEd8VvjVtFp"
      },
      "source": [
        "accuracy = classifier.score(X_train, y_train) * 100\r\n",
        "y_train_pred = classifier.predict_proba(X_train)[:, 1]"
      ],
      "execution_count": null,
      "outputs": []
    },
    {
      "cell_type": "code",
      "metadata": {
        "id": "BOjaZVm1WDZN"
      },
      "source": [
        "accuracy"
      ],
      "execution_count": null,
      "outputs": []
    },
    {
      "cell_type": "code",
      "metadata": {
        "id": "MgclIR05WMB3"
      },
      "source": [
        "FPR, TPR, thresholds = roc_curve(y_train, y_train_pred)\r\n",
        "AUC = roc_auc_score(y_train, y_train_pred)\r\n",
        "\r\n",
        "plt.plot(FPR, TPR)\r\n",
        "print(\"Accuracy: {}\".format(accuracy))"
      ],
      "execution_count": null,
      "outputs": []
    },
    {
      "cell_type": "code",
      "metadata": {
        "id": "TJCwYwNIXzIw"
      },
      "source": [
        "AUC"
      ],
      "execution_count": null,
      "outputs": []
    }
  ]
}