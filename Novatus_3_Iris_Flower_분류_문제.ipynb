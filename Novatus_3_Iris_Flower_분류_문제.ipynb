{
  "nbformat": 4,
  "nbformat_minor": 0,
  "metadata": {
    "colab": {
      "name": "Novatus-3 Iris Flower 분류 문제.ipynb",
      "private_outputs": true,
      "provenance": [],
      "collapsed_sections": [
        "ABondejk12Uv",
        "MCFQRFz72zDQ",
        "2yUgiQVx4Bg4",
        "gX-41DEB4jHV",
        "xwNzd3424v-M",
        "iMQotSei979c",
        "F9eB4Nry_dRY"
      ],
      "toc_visible": true,
      "authorship_tag": "ABX9TyMEur7vfgkjCm1Ls6Nca1rG",
      "include_colab_link": true
    },
    "kernelspec": {
      "name": "python3",
      "display_name": "Python 3"
    }
  },
  "cells": [
    {
      "cell_type": "markdown",
      "metadata": {
        "id": "view-in-github",
        "colab_type": "text"
      },
      "source": [
        "<a href=\"https://colab.research.google.com/github/devSeungGwan/novatus-academya/blob/master/Novatus_3_Iris_Flower_%EB%B6%84%EB%A5%98_%EB%AC%B8%EC%A0%9C.ipynb\" target=\"_parent\"><img src=\"https://colab.research.google.com/assets/colab-badge.svg\" alt=\"Open In Colab\"/></a>"
      ]
    },
    {
      "cell_type": "markdown",
      "metadata": {
        "id": "oEpglFdI1Txe"
      },
      "source": [
        "#  Iris Flower 분류 문제\r\n",
        "\r\n",
        "1. 데이터 셋 준비\r\n",
        "2. feature 2개를 가져와서 로지스틱 회귀\r\n",
        "3. feature 4개를 가져와서 로지스틱 회귀\r\n",
        "4. feature 2개를 가져와서 다항 로지스틱 회귀\r\n",
        "5. feature 4개를 가져와서 다항 로지스틱 회귀\r\n",
        "6. feature 4개를 가져와서 MLP\r\n",
        "\r\n",
        "---\r\n"
      ]
    },
    {
      "cell_type": "markdown",
      "metadata": {
        "id": "ABondejk12Uv"
      },
      "source": [
        "## 1. 데이터 셋 준비\r\n",
        "\r\n",
        "### 데이터 개요\r\n",
        "\r\n",
        "- Iris plants datasets\r\n",
        "- feature 4: (꽃받침 길이, 꽃받침 넓이, 꽃잎 길이, 꽃잎 넓이)\r\n",
        "- target 3: (Setosa 0, Verslcolor 1, Verginica 2)\r\n",
        "- 150개의 데이터\r\n",
        "    - x shape: (150, 4)\r\n",
        "    - y shape: (150, 1)"
      ]
    },
    {
      "cell_type": "markdown",
      "metadata": {
        "id": "MCFQRFz72zDQ"
      },
      "source": [
        "### 데이터 셋 import"
      ]
    },
    {
      "cell_type": "code",
      "metadata": {
        "id": "Lf12gvnR1Tgh"
      },
      "source": [
        "from sklearn import datasets\r\n",
        "iris = datasets.load_iris()\r\n",
        "\r\n",
        "list(iris.keys())"
      ],
      "execution_count": null,
      "outputs": []
    },
    {
      "cell_type": "markdown",
      "metadata": {
        "id": "2yUgiQVx4Bg4"
      },
      "source": [
        "### 데이터 셋 정보 확인"
      ]
    },
    {
      "cell_type": "code",
      "metadata": {
        "id": "0cQpLr070kLZ"
      },
      "source": [
        "print(iris.DESCR)"
      ],
      "execution_count": null,
      "outputs": []
    },
    {
      "cell_type": "code",
      "metadata": {
        "id": "JX-dLmTk3VCw"
      },
      "source": [
        "print(iris.data)"
      ],
      "execution_count": null,
      "outputs": []
    },
    {
      "cell_type": "code",
      "metadata": {
        "id": "N761o7zg3nkG"
      },
      "source": [
        "iris.feature_names"
      ],
      "execution_count": null,
      "outputs": []
    },
    {
      "cell_type": "code",
      "metadata": {
        "id": "N5bG7Eps3tIG"
      },
      "source": [
        "iris.target_names"
      ],
      "execution_count": null,
      "outputs": []
    },
    {
      "cell_type": "code",
      "metadata": {
        "id": "0uQjgU753v3n"
      },
      "source": [
        "iris.target"
      ],
      "execution_count": null,
      "outputs": []
    },
    {
      "cell_type": "markdown",
      "metadata": {
        "id": "HhoabDzX4IO3"
      },
      "source": [
        "## 2. feature 2개를 사용한 로지스틱 회귀"
      ]
    },
    {
      "cell_type": "markdown",
      "metadata": {
        "id": "gX-41DEB4jHV"
      },
      "source": [
        "### 라이브러리 import"
      ]
    },
    {
      "cell_type": "code",
      "metadata": {
        "id": "VMnwSDNV4H8N"
      },
      "source": [
        "from sklearn.linear_model import LogisticRegression\r\n",
        "import numpy as np\r\n",
        "import matplotlib\r\n",
        "import matplotlib.pyplot as plt"
      ],
      "execution_count": null,
      "outputs": []
    },
    {
      "cell_type": "markdown",
      "metadata": {
        "id": "xwNzd3424v-M"
      },
      "source": [
        "###  2개의 feature을 가지고 verginica 분류 문제 풀기"
      ]
    },
    {
      "cell_type": "code",
      "metadata": {
        "id": "xLMd4D5v46qz"
      },
      "source": [
        "y = (iris[\"target\"] == 2)\r\n",
        "y = y.astype(np.int)\r\n",
        "y.shape"
      ],
      "execution_count": null,
      "outputs": []
    },
    {
      "cell_type": "code",
      "metadata": {
        "id": "fDLl1SxI5nBu"
      },
      "source": [
        "x = iris[\"data\"][:, 1:3]\r\n",
        "x.shape"
      ],
      "execution_count": null,
      "outputs": []
    },
    {
      "cell_type": "code",
      "metadata": {
        "id": "wyL3Xwn25rRd"
      },
      "source": [
        "log_reg = LogisticRegression()\r\n",
        "log_reg.fit(x, y)"
      ],
      "execution_count": null,
      "outputs": []
    },
    {
      "cell_type": "code",
      "metadata": {
        "id": "aJVjdFlW6nNl"
      },
      "source": [
        "xx, yy = np.meshgrid(np.arange(0, 8, 0.01), np.arange(0, 5.0, 0.01))\r\n",
        "Z = log_reg.predict(np.c_[xx.ravel(), yy.ravel()])\r\n",
        "Z = Z.reshape(xx.shape)\r\n",
        "\r\n",
        "plt.figure(1)\r\n",
        "\r\n",
        "plt.pcolormesh(xx, yy, Z, cmap=\"RdBu\", vmin=-.2, vmax=1.2)\r\n",
        "plt.scatter(x[:, 0], x[:, 1], c=y, s=50, \r\n",
        "            cmap=\"RdBu\", vmin=-.2, vmax=1.2, \r\n",
        "            edgecolor=\"white\", linewidth=1)\r\n",
        "\r\n",
        "plt.xlabel(\"petal length\")\r\n",
        "plt.ylabel('petal width')"
      ],
      "execution_count": null,
      "outputs": []
    },
    {
      "cell_type": "code",
      "metadata": {
        "id": "1A-coON77rdK"
      },
      "source": [
        "np.sum(log_reg.predict(X=x) != y)"
      ],
      "execution_count": null,
      "outputs": []
    },
    {
      "cell_type": "markdown",
      "metadata": {
        "id": "iMQotSei979c"
      },
      "source": [
        "## 3. feature 4개를 사용한 로지스틱 회귀"
      ]
    },
    {
      "cell_type": "code",
      "metadata": {
        "id": "ulnxWKjQ-EJn"
      },
      "source": [
        "y = (iris[\"target\"] == 2).astype(np.int)\r\n",
        "print(y.shape)\r\n",
        "\r\n",
        "x = iris[\"data\"]\r\n",
        "print(x.shape)"
      ],
      "execution_count": null,
      "outputs": []
    },
    {
      "cell_type": "code",
      "metadata": {
        "id": "aRP4KI-a-WUM"
      },
      "source": [
        "log_reg.fit(x, y)"
      ],
      "execution_count": null,
      "outputs": []
    },
    {
      "cell_type": "code",
      "metadata": {
        "id": "lAMwAthA-hKs"
      },
      "source": [
        "np.sum(log_reg.predict(x) != y)"
      ],
      "execution_count": null,
      "outputs": []
    },
    {
      "cell_type": "markdown",
      "metadata": {
        "id": "F9eB4Nry_dRY"
      },
      "source": [
        "## 4. feature 2를 사용한 다항(Softmax, Multinomial) 로지스틱 회귀"
      ]
    },
    {
      "cell_type": "code",
      "metadata": {
        "id": "bczSGElQ_lnt"
      },
      "source": [
        "y = iris[\"target\"]\r\n",
        "y.shape"
      ],
      "execution_count": null,
      "outputs": []
    },
    {
      "cell_type": "code",
      "metadata": {
        "id": "AFYqjbDN_1t3"
      },
      "source": [
        "x = iris[\"data\"][:, 2:]\r\n",
        "x.shape"
      ],
      "execution_count": null,
      "outputs": []
    },
    {
      "cell_type": "code",
      "metadata": {
        "id": "Ipi2_a-P_6Wp"
      },
      "source": [
        "soft_max = LogisticRegression(multi_class='multinomial', solver='lbfgs')\r\n",
        "soft_max.fit(x, y)"
      ],
      "execution_count": null,
      "outputs": []
    },
    {
      "cell_type": "code",
      "metadata": {
        "id": "Pu6jSXHTAbPh"
      },
      "source": [
        "xx, yy = np.meshgrid(np.arange(0, 8, 0.01), np.arange(0, 3, 0.01))\r\n",
        "Z = soft_max.predict(np.c_[xx.ravel(), yy.ravel()])\r\n",
        "Z = Z.reshape(xx.shape)\r\n",
        "\r\n",
        "plt.figure(1)\r\n",
        "plt.pcolormesh(xx, yy, Z, cmap=\"RdBu\", vmin=-.2, vmax=1.2)\r\n",
        "plt.scatter(x[:, 0], x[:, 1], c=y, cmap=\"RdBu\", vmin=-.2, vmax=1.2, edgecolor=\"white\", linewidth=1)\r\n",
        "\r\n",
        "plt.xlabel(\"Petal length\")\r\n",
        "plt.ylabel(\"Petal width\")"
      ],
      "execution_count": null,
      "outputs": []
    },
    {
      "cell_type": "code",
      "metadata": {
        "id": "YrrRiJg1B8JK"
      },
      "source": [
        "np.sum(soft_max.predict(x) != y)"
      ],
      "execution_count": null,
      "outputs": []
    },
    {
      "cell_type": "markdown",
      "metadata": {
        "id": "5Vxrrrg3CGO9"
      },
      "source": [
        "## 5. feature 4를 사용한 다항(Softmax, Multinomial) 로지스틱 회귀"
      ]
    },
    {
      "cell_type": "code",
      "metadata": {
        "id": "FlK5bHIrChtO"
      },
      "source": [
        "x = iris['data']\r\n",
        "y = iris[\"target\"]"
      ],
      "execution_count": null,
      "outputs": []
    },
    {
      "cell_type": "code",
      "metadata": {
        "id": "nsQXKordCtUx"
      },
      "source": [
        "soft_max = LogisticRegression(multi_class='multinomial')\r\n",
        "soft_max.fit(x, y)"
      ],
      "execution_count": null,
      "outputs": []
    },
    {
      "cell_type": "code",
      "metadata": {
        "id": "h4NrvylaC9CJ"
      },
      "source": [
        "np.sum(soft_max.predict(x) != y)"
      ],
      "execution_count": null,
      "outputs": []
    },
    {
      "cell_type": "markdown",
      "metadata": {
        "id": "9MWVTkt4DDQ5"
      },
      "source": [
        "## 6. feature 4개를 활용한 다항 로지스틱 회귀(다층 퍼셉트론)"
      ]
    },
    {
      "cell_type": "code",
      "metadata": {
        "id": "rb0SchQ4DFGa"
      },
      "source": [
        "from sklearn.neural_network import MLPClassifier\r\n",
        "\r\n",
        "x = iris['data']\r\n",
        "y = iris['target']\r\n",
        "\r\n",
        "classifier_MLP = MLPClassifier(\r\n",
        "    activation=\"relu\" #'identity', 'logistic', 'relu', 'softmax', 'tanh'\r\n",
        "    , hidden_layer_sizes=(16, 32, 16) # hidden layer 은 3층으로 구성\r\n",
        "    , max_iter=10000\r\n",
        "    , solver='lbfgs'\r\n",
        ")\r\n",
        "\r\n",
        "classifier_MLP.fit(x, y)"
      ],
      "execution_count": null,
      "outputs": []
    },
    {
      "cell_type": "code",
      "metadata": {
        "id": "O3m7sSDWEn2W"
      },
      "source": [
        "np.sum(classifier_MLP.predict(x) != y)"
      ],
      "execution_count": null,
      "outputs": []
    }
  ]
}