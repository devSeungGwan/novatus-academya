{
  "nbformat": 4,
  "nbformat_minor": 0,
  "metadata": {
    "colab": {
      "name": "Novatus-6 Keras를 활용한 Fashion Mnist 분류(CNN 분류 X).ipynb",
      "private_outputs": true,
      "provenance": [],
      "collapsed_sections": [
        "di-dJUj-w7L_",
        "-qSLQW-1x1vU"
      ],
      "toc_visible": true,
      "mount_file_id": "1h1Mrb5Sx6LUw4cXnVPln7avr4Y6vLwvx",
      "authorship_tag": "ABX9TyPKWw9W63uzN+LNLLOQy4Bn",
      "include_colab_link": true
    },
    "kernelspec": {
      "name": "python3",
      "display_name": "Python 3"
    }
  },
  "cells": [
    {
      "cell_type": "markdown",
      "metadata": {
        "id": "view-in-github",
        "colab_type": "text"
      },
      "source": [
        "<a href=\"https://colab.research.google.com/github/devSeungGwan/novatus-academya/blob/master/Novatus_6_Keras%EB%A5%BC_%ED%99%9C%EC%9A%A9%ED%95%9C_Fashion_Mnist_%EB%B6%84%EB%A5%98(CNN_%EB%B6%84%EB%A5%98_X).ipynb\" target=\"_parent\"><img src=\"https://colab.research.google.com/assets/colab-badge.svg\" alt=\"Open In Colab\"/></a>"
      ]
    },
    {
      "cell_type": "markdown",
      "metadata": {
        "id": "di-dJUj-w7L_"
      },
      "source": [
        "# 라이브러리 import"
      ]
    },
    {
      "cell_type": "code",
      "metadata": {
        "id": "lbSPCC9Dw9aZ"
      },
      "source": [
        "import keras\r\n",
        "from keras.datasets import fashion_mnist\r\n",
        "\r\n",
        "import numpy as np\r\n",
        "import pandas as pd\r\n",
        "import matplotlib\r\n",
        "import matplotlib.pyplot as plt\r\n"
      ],
      "execution_count": null,
      "outputs": []
    },
    {
      "cell_type": "markdown",
      "metadata": {
        "id": "mWQv6KWhw4A7"
      },
      "source": [
        "# 데이터 준비"
      ]
    },
    {
      "cell_type": "markdown",
      "metadata": {
        "id": "-qSLQW-1x1vU"
      },
      "source": [
        "## 데이터 불러오기"
      ]
    },
    {
      "cell_type": "code",
      "metadata": {
        "id": "egWI1pTAwq6e"
      },
      "source": [
        "fashionMnist = fashion_mnist\r\n",
        "\r\n",
        "(X_train, y_train), (X_test, y_test) = fashionMnist.load_data()"
      ],
      "execution_count": null,
      "outputs": []
    },
    {
      "cell_type": "code",
      "metadata": {
        "id": "SQtgaydrzHse"
      },
      "source": [
        "# 클래스 명\r\n",
        "item = {\r\n",
        "      0: 'T-shirt/top'\r\n",
        "    , 1: 'Trouser'\r\n",
        "    , 2: 'Pullover'\r\n",
        "    , 3: 'Dress'\r\n",
        "    , 4: 'Coat'\r\n",
        "    , 5: 'Sandal'\r\n",
        "    , 6: 'Shirt'\r\n",
        "    , 7: 'Sneaker'\r\n",
        "    , 8: 'Bag'\r\n",
        "    , 9: 'Ankle boot'\r\n",
        "}"
      ],
      "execution_count": null,
      "outputs": []
    },
    {
      "cell_type": "markdown",
      "metadata": {
        "id": "W97rQa8hxyYF"
      },
      "source": [
        "## 데이터 분석"
      ]
    },
    {
      "cell_type": "code",
      "metadata": {
        "id": "NTWjDAD2xab6"
      },
      "source": [
        "X_train.shape, y_train.shape, X_test.shape, y_test.shape"
      ],
      "execution_count": null,
      "outputs": []
    },
    {
      "cell_type": "code",
      "metadata": {
        "id": "hZag8g-ux562"
      },
      "source": [
        "plt.figure(figsize=(12, 12))\r\n",
        "\r\n",
        "for i in range(36):\r\n",
        "    plt.subplot(6, 6, i+1)\r\n",
        "    plt.imshow(X_train[i])\r\n",
        "    plt.title(item[y_train[i]])\r\n",
        "    plt.tight_layout()"
      ],
      "execution_count": null,
      "outputs": []
    },
    {
      "cell_type": "markdown",
      "metadata": {
        "id": "NNyK9T7g2NYh"
      },
      "source": [
        "## 학습 및 검증 데이터 분리 및 정규화"
      ]
    },
    {
      "cell_type": "code",
      "metadata": {
        "id": "0kInB1wT2UgU"
      },
      "source": [
        "X_valid, X_train = X_train[:10000], X_train[10000:]\r\n",
        "y_valid, y_train = y_train[:10000], y_train[10000:]"
      ],
      "execution_count": null,
      "outputs": []
    },
    {
      "cell_type": "code",
      "metadata": {
        "id": "0yBXvbcr27Ac"
      },
      "source": [
        "X_valid.shape, X_train.shape, y_valid.shape, y_train.shape"
      ],
      "execution_count": null,
      "outputs": []
    },
    {
      "cell_type": "code",
      "metadata": {
        "id": "RkyyaaFZ3ZTT"
      },
      "source": [
        "X_train, X_valid, X_test =  X_train/255.0, X_valid/255.0, X_test/255.0"
      ],
      "execution_count": null,
      "outputs": []
    },
    {
      "cell_type": "markdown",
      "metadata": {
        "id": "99yEeF6l32wD"
      },
      "source": [
        "# Keras를 활용한 데이터 학습 "
      ]
    },
    {
      "cell_type": "markdown",
      "metadata": {
        "id": "YoI3ClcW6cVi"
      },
      "source": [
        "## 모델 선언"
      ]
    },
    {
      "cell_type": "code",
      "metadata": {
        "id": "jZqbMug64AmK"
      },
      "source": [
        "model = keras.models.Sequential([\r\n",
        "    keras.layers.Flatten(input_shape=[28, 28]) # input layer\r\n",
        "    , keras.layers.Dense(256, activation=\"relu\") # hidden layer - 1\r\n",
        "    , keras.layers.Dense(128, activation=\"relu\") # hidden layer - 2\r\n",
        "    , keras.layers.Dense(10, activation=\"softmax\") # output layer\r\n",
        "])"
      ],
      "execution_count": null,
      "outputs": []
    },
    {
      "cell_type": "markdown",
      "metadata": {
        "id": "YyF1jU2C6e6C"
      },
      "source": [
        "## 모델 분석"
      ]
    },
    {
      "cell_type": "code",
      "metadata": {
        "id": "GoPz-OR05GCH"
      },
      "source": [
        "model.summary() # model 개요"
      ],
      "execution_count": null,
      "outputs": []
    },
    {
      "cell_type": "code",
      "metadata": {
        "id": "Am2seklM524E"
      },
      "source": [
        "hidden1 = model.layers[1]\r\n",
        "weights, bias = hidden1.get_weights()"
      ],
      "execution_count": null,
      "outputs": []
    },
    {
      "cell_type": "code",
      "metadata": {
        "id": "X3HGcR7t6NiF"
      },
      "source": [
        "weights"
      ],
      "execution_count": null,
      "outputs": []
    },
    {
      "cell_type": "code",
      "metadata": {
        "id": "rm-Kk1j46PzT"
      },
      "source": [
        "bias"
      ],
      "execution_count": null,
      "outputs": []
    },
    {
      "cell_type": "markdown",
      "metadata": {
        "id": "L3127jFt6iQX"
      },
      "source": [
        "## 모델 컴파일"
      ]
    },
    {
      "cell_type": "code",
      "metadata": {
        "id": "vteRTzVE6ukW"
      },
      "source": [
        "model.compile(\r\n",
        "    optimizer='adam',\r\n",
        "    loss=\"sparse_categorical_crossentropy\",\r\n",
        "    metrics=[\"accuracy\"]\r\n",
        ")"
      ],
      "execution_count": null,
      "outputs": []
    },
    {
      "cell_type": "markdown",
      "metadata": {
        "id": "FGwnHgwz9FqV"
      },
      "source": [
        "## 모델 학습"
      ]
    },
    {
      "cell_type": "code",
      "metadata": {
        "id": "36-BBrfA7gft"
      },
      "source": [
        "history = model.fit(\r\n",
        "    x=X_train,\r\n",
        "    y=y_train,\r\n",
        "    batch_size=16,\r\n",
        "    epochs=20,\r\n",
        "    validation_data=(X_valid, y_valid),\r\n",
        "    shuffle=True\r\n",
        ")"
      ],
      "execution_count": null,
      "outputs": []
    },
    {
      "cell_type": "markdown",
      "metadata": {
        "id": "DLTO07Ps9I7D"
      },
      "source": [
        "## 학습 결과 확인"
      ]
    },
    {
      "cell_type": "code",
      "metadata": {
        "id": "izuwlASPBNug"
      },
      "source": [
        "pd.DataFrame(history.history).plot(figsize=(8, 5))\r\n",
        "plt.grid(True)"
      ],
      "execution_count": null,
      "outputs": []
    },
    {
      "cell_type": "code",
      "metadata": {
        "id": "0nseli8nCTGv"
      },
      "source": [
        "y_pred = model.predict(X_test[:3]).round(2)"
      ],
      "execution_count": null,
      "outputs": []
    },
    {
      "cell_type": "markdown",
      "metadata": {
        "id": "K3yuD96VGKH9"
      },
      "source": [
        "## 학습 모델 테스트"
      ]
    },
    {
      "cell_type": "code",
      "metadata": {
        "id": "-5PpQMdCEzCk"
      },
      "source": [
        "model.evaluate(X_test, y_test)"
      ],
      "execution_count": null,
      "outputs": []
    },
    {
      "cell_type": "markdown",
      "metadata": {
        "id": "IMcT-es0GN2T"
      },
      "source": [
        "## 학습 모델 저장 및 불러오기"
      ]
    },
    {
      "cell_type": "code",
      "metadata": {
        "id": "n3T81k9AFiSX"
      },
      "source": [
        "model.save(\"my_keras_model.h5\")"
      ],
      "execution_count": null,
      "outputs": []
    },
    {
      "cell_type": "code",
      "metadata": {
        "id": "LN15pL40GXxY"
      },
      "source": [
        "model = keras.models.load_model(\"my_keras_model.h5\")"
      ],
      "execution_count": null,
      "outputs": []
    }
  ]
}